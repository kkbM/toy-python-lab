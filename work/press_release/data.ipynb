{
 "cells": [
  {
   "cell_type": "code",
   "execution_count": 1,
   "metadata": {},
   "outputs": [],
   "source": [
    "import pandas as pd"
   ]
  },
  {
   "cell_type": "code",
   "execution_count": 1,
   "metadata": {
    "tags": []
   },
   "outputs": [],
   "source": [
    "def convert_a(text):\n",
    "    sp = text.replace(\"\\t\", \"\").split(\"\\n\")\n",
    "    dst = []\n",
    "    for i in range(len(sp)//3):\n",
    "        idx = i*3\n",
    "        c = [sp[idx],sp[idx+1],sp[idx+2]]\n",
    "        dst.append(c)\n",
    "    return dst"
   ]
  },
  {
   "cell_type": "code",
   "execution_count": 29,
   "metadata": {},
   "outputs": [],
   "source": [
    "# text = \"\"\n",
    "rs = convert_a(text)"
   ]
  },
  {
   "cell_type": "code",
   "execution_count": 47,
   "metadata": {},
   "outputs": [],
   "source": [
    "file_path = \"data/hoge/2021.csv\"\n",
    "header = [\"type\",\"date\",\"title\"]\n",
    "\n",
    "df_2021 = pd.DataFrame(rs, columns=header)\n",
    "df_2021 = df.sort_values(\"date\", ascending=False)\n",
    "df_2021.to_csv(file_path, index = False)"
   ]
  },
  {
   "cell_type": "code",
   "execution_count": null,
   "metadata": {},
   "outputs": [],
   "source": []
  }
 ],
 "metadata": {
  "kernelspec": {
   "display_name": "Python 3 (ipykernel)",
   "language": "python",
   "name": "python3"
  },
  "language_info": {
   "codemirror_mode": {
    "name": "ipython",
    "version": 3
   },
   "file_extension": ".py",
   "mimetype": "text/x-python",
   "name": "python",
   "nbconvert_exporter": "python",
   "pygments_lexer": "ipython3",
   "version": "3.10.9"
  },
  "vscode": {
   "interpreter": {
    "hash": "2af372f81ab251bc474f3992970b07f714dadda761bc2869397cbbddda8ef754"
   }
  }
 },
 "nbformat": 4,
 "nbformat_minor": 4
}
